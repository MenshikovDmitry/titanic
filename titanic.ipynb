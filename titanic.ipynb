{
 "cells": [
  {
   "cell_type": "markdown",
   "metadata": {},
   "source": [
    "PART 2 - Brach. test\n",
    "\n",
    "survival\tSurvival\t0 = No, 1 = Yes\n",
    "pclass\tTicket class\t1 = 1st, 2 = 2nd, 3 = 3rd\n",
    "sex\tSex\t\n",
    "Age\tAge in years\t\n",
    "sibsp\t# of siblings / spouses aboard the Titanic\t\n",
    "parch\t# of parents / children aboard the Titanic\t\n",
    "ticket\tTicket number\t\n",
    "fare\tPassenger fare\t\n",
    "cabin\tCabin number\t\n",
    "embarked\tPort of Embarkation\tC = Cherbourg, Q = Queenstown, S = Southampton"
   ]
  },
  {
   "cell_type": "code",
   "execution_count": 1,
   "metadata": {
    "collapsed": false
   },
   "outputs": [
    {
     "name": "stdout",
     "output_type": "stream",
     "text": [
      "Populating the interactive namespace from numpy and matplotlib\n"
     ]
    }
   ],
   "source": [
    "import pandas as pd\n",
    "import seaborn as sns\n",
    "%pylab inline"
   ]
  },
  {
   "cell_type": "code",
   "execution_count": 2,
   "metadata": {
    "collapsed": false
   },
   "outputs": [
    {
     "data": {
      "text/html": [
       "<div>\n",
       "<style>\n",
       "    .dataframe thead tr:only-child th {\n",
       "        text-align: right;\n",
       "    }\n",
       "\n",
       "    .dataframe thead th {\n",
       "        text-align: left;\n",
       "    }\n",
       "\n",
       "    .dataframe tbody tr th {\n",
       "        vertical-align: top;\n",
       "    }\n",
       "</style>\n",
       "<table border=\"1\" class=\"dataframe\">\n",
       "  <thead>\n",
       "    <tr style=\"text-align: right;\">\n",
       "      <th></th>\n",
       "      <th>survived</th>\n",
       "      <th>pclass</th>\n",
       "      <th>name</th>\n",
       "      <th>sex</th>\n",
       "      <th>age</th>\n",
       "      <th>sibsp</th>\n",
       "      <th>parch</th>\n",
       "      <th>ticket</th>\n",
       "      <th>fare</th>\n",
       "      <th>cabin</th>\n",
       "      <th>embarked</th>\n",
       "    </tr>\n",
       "    <tr>\n",
       "      <th>PassengerId</th>\n",
       "      <th></th>\n",
       "      <th></th>\n",
       "      <th></th>\n",
       "      <th></th>\n",
       "      <th></th>\n",
       "      <th></th>\n",
       "      <th></th>\n",
       "      <th></th>\n",
       "      <th></th>\n",
       "      <th></th>\n",
       "      <th></th>\n",
       "    </tr>\n",
       "  </thead>\n",
       "  <tbody>\n",
       "    <tr>\n",
       "      <th>1</th>\n",
       "      <td>0</td>\n",
       "      <td>3</td>\n",
       "      <td>Braund, Mr. Owen Harris</td>\n",
       "      <td>1</td>\n",
       "      <td>22.0</td>\n",
       "      <td>1</td>\n",
       "      <td>0</td>\n",
       "      <td>A/5 21171</td>\n",
       "      <td>7.2500</td>\n",
       "      <td>NaN</td>\n",
       "      <td>S</td>\n",
       "    </tr>\n",
       "    <tr>\n",
       "      <th>2</th>\n",
       "      <td>1</td>\n",
       "      <td>1</td>\n",
       "      <td>Cumings, Mrs. John Bradley (Florence Briggs Th...</td>\n",
       "      <td>0</td>\n",
       "      <td>38.0</td>\n",
       "      <td>1</td>\n",
       "      <td>0</td>\n",
       "      <td>PC 17599</td>\n",
       "      <td>71.2833</td>\n",
       "      <td>C85</td>\n",
       "      <td>C</td>\n",
       "    </tr>\n",
       "  </tbody>\n",
       "</table>\n",
       "</div>"
      ],
      "text/plain": [
       "             survived  pclass  \\\n",
       "PassengerId                     \n",
       "1                   0       3   \n",
       "2                   1       1   \n",
       "\n",
       "                                                          name  sex   age  \\\n",
       "PassengerId                                                                 \n",
       "1                                      Braund, Mr. Owen Harris    1  22.0   \n",
       "2            Cumings, Mrs. John Bradley (Florence Briggs Th...    0  38.0   \n",
       "\n",
       "             sibsp  parch     ticket     fare cabin embarked  \n",
       "PassengerId                                                   \n",
       "1                1      0  A/5 21171   7.2500   NaN        S  \n",
       "2                1      0   PC 17599  71.2833   C85        C  "
      ]
     },
     "execution_count": 2,
     "metadata": {},
     "output_type": "execute_result"
    }
   ],
   "source": [
    "titanic_data = pd.read_csv('train.csv', index_col='PassengerId')\n",
    "test = pd.read_csv('test.csv', index_col='PassengerId')\n",
    "titanic_data.columns = pd.Series(titanic_data.columns).apply(lambda r: r.lower())\n",
    "titanic_data.sex = titanic_data.sex.map({'female': 0, 'male': 1})\n",
    "titanic_data.head(2)#[-2::]"
   ]
  },
  {
   "cell_type": "code",
   "execution_count": 3,
   "metadata": {
    "collapsed": false
   },
   "outputs": [
    {
     "data": {
      "text/html": [
       "<div>\n",
       "<style>\n",
       "    .dataframe thead tr:only-child th {\n",
       "        text-align: right;\n",
       "    }\n",
       "\n",
       "    .dataframe thead th {\n",
       "        text-align: left;\n",
       "    }\n",
       "\n",
       "    .dataframe tbody tr th {\n",
       "        vertical-align: top;\n",
       "    }\n",
       "</style>\n",
       "<table border=\"1\" class=\"dataframe\">\n",
       "  <thead>\n",
       "    <tr style=\"text-align: right;\">\n",
       "      <th></th>\n",
       "      <th>survived</th>\n",
       "      <th>pclass</th>\n",
       "      <th>name</th>\n",
       "      <th>sex</th>\n",
       "      <th>age</th>\n",
       "      <th>sibsp</th>\n",
       "      <th>parch</th>\n",
       "      <th>ticket</th>\n",
       "      <th>fare</th>\n",
       "      <th>cabin</th>\n",
       "      <th>embarked</th>\n",
       "    </tr>\n",
       "    <tr>\n",
       "      <th>PassengerId</th>\n",
       "      <th></th>\n",
       "      <th></th>\n",
       "      <th></th>\n",
       "      <th></th>\n",
       "      <th></th>\n",
       "      <th></th>\n",
       "      <th></th>\n",
       "      <th></th>\n",
       "      <th></th>\n",
       "      <th></th>\n",
       "      <th></th>\n",
       "    </tr>\n",
       "  </thead>\n",
       "  <tbody>\n",
       "    <tr>\n",
       "      <th>892</th>\n",
       "      <td>-1</td>\n",
       "      <td>3</td>\n",
       "      <td>Kelly, Mr. James</td>\n",
       "      <td>1</td>\n",
       "      <td>34.5</td>\n",
       "      <td>0</td>\n",
       "      <td>0</td>\n",
       "      <td>330911</td>\n",
       "      <td>7.8292</td>\n",
       "      <td>NaN</td>\n",
       "      <td>Q</td>\n",
       "    </tr>\n",
       "    <tr>\n",
       "      <th>893</th>\n",
       "      <td>-1</td>\n",
       "      <td>3</td>\n",
       "      <td>Wilkes, Mrs. James (Ellen Needs)</td>\n",
       "      <td>0</td>\n",
       "      <td>47.0</td>\n",
       "      <td>1</td>\n",
       "      <td>0</td>\n",
       "      <td>363272</td>\n",
       "      <td>7.0000</td>\n",
       "      <td>NaN</td>\n",
       "      <td>S</td>\n",
       "    </tr>\n",
       "  </tbody>\n",
       "</table>\n",
       "</div>"
      ],
      "text/plain": [
       "             survived  pclass                              name  sex   age  \\\n",
       "PassengerId                                                                  \n",
       "892                -1       3                  Kelly, Mr. James    1  34.5   \n",
       "893                -1       3  Wilkes, Mrs. James (Ellen Needs)    0  47.0   \n",
       "\n",
       "             sibsp  parch  ticket    fare cabin embarked  \n",
       "PassengerId                                               \n",
       "892              0      0  330911  7.8292   NaN        Q  \n",
       "893              1      0  363272  7.0000   NaN        S  "
      ]
     },
     "execution_count": 3,
     "metadata": {},
     "output_type": "execute_result"
    }
   ],
   "source": [
    "test.columns = pd.Series(test.columns).apply(lambda r: r.lower())\n",
    "test.sex = test.sex.map({'female': 0, 'male': 1})\n",
    "test['survived']=[-1]*len(test)\n",
    "\n",
    "cols=list(test)\n",
    "cols.insert(0,cols.pop(cols.index('survived')))\n",
    "test=test.loc[:,cols]\n",
    "\n",
    "test.head(2)"
   ]
  },
  {
   "cell_type": "code",
   "execution_count": 4,
   "metadata": {
    "collapsed": false
   },
   "outputs": [],
   "source": [
    "raw=pd.concat([titanic_data,test],) #соединим тренировочную и тестовую"
   ]
  },
  {
   "cell_type": "code",
   "execution_count": 5,
   "metadata": {
    "collapsed": false
   },
   "outputs": [
    {
     "name": "stdout",
     "output_type": "stream",
     "text": [
      "<class 'pandas.core.frame.DataFrame'>\n",
      "Int64Index: 1309 entries, 1 to 1309\n",
      "Data columns (total 11 columns):\n",
      "survived    1309 non-null int64\n",
      "pclass      1309 non-null int64\n",
      "name        1309 non-null object\n",
      "sex         1309 non-null int64\n",
      "age         1046 non-null float64\n",
      "sibsp       1309 non-null int64\n",
      "parch       1309 non-null int64\n",
      "ticket      1309 non-null object\n",
      "fare        1308 non-null float64\n",
      "cabin       295 non-null object\n",
      "embarked    1307 non-null object\n",
      "dtypes: float64(2), int64(5), object(4)\n",
      "memory usage: 122.7+ KB\n"
     ]
    }
   ],
   "source": [
    "raw.info()"
   ]
  },
  {
   "cell_type": "code",
   "execution_count": 6,
   "metadata": {
    "collapsed": false
   },
   "outputs": [
    {
     "data": {
      "text/plain": [
       "count    1046.000000\n",
       "mean       29.881138\n",
       "std        14.413493\n",
       "min         0.170000\n",
       "25%        21.000000\n",
       "50%        28.000000\n",
       "75%        39.000000\n",
       "max        80.000000\n",
       "Name: age, dtype: float64"
      ]
     },
     "execution_count": 6,
     "metadata": {},
     "output_type": "execute_result"
    }
   ],
   "source": [
    "raw.age.describe()"
   ]
  },
  {
   "cell_type": "code",
   "execution_count": 7,
   "metadata": {
    "collapsed": false
   },
   "outputs": [
    {
     "data": {
      "text/html": [
       "<div>\n",
       "<style>\n",
       "    .dataframe thead tr:only-child th {\n",
       "        text-align: right;\n",
       "    }\n",
       "\n",
       "    .dataframe thead th {\n",
       "        text-align: left;\n",
       "    }\n",
       "\n",
       "    .dataframe tbody tr th {\n",
       "        vertical-align: top;\n",
       "    }\n",
       "</style>\n",
       "<table border=\"1\" class=\"dataframe\">\n",
       "  <thead>\n",
       "    <tr style=\"text-align: right;\">\n",
       "      <th></th>\n",
       "      <th>survived</th>\n",
       "      <th>-1</th>\n",
       "      <th>0</th>\n",
       "      <th>1</th>\n",
       "    </tr>\n",
       "    <tr>\n",
       "      <th>sex</th>\n",
       "      <th>pclass</th>\n",
       "      <th></th>\n",
       "      <th></th>\n",
       "      <th></th>\n",
       "    </tr>\n",
       "  </thead>\n",
       "  <tbody>\n",
       "    <tr>\n",
       "      <th rowspan=\"3\" valign=\"top\">0</th>\n",
       "      <th>1</th>\n",
       "      <td>41.333333</td>\n",
       "      <td>25.666667</td>\n",
       "      <td>34.939024</td>\n",
       "    </tr>\n",
       "    <tr>\n",
       "      <th>2</th>\n",
       "      <td>24.376552</td>\n",
       "      <td>36.000000</td>\n",
       "      <td>28.080882</td>\n",
       "    </tr>\n",
       "    <tr>\n",
       "      <th>3</th>\n",
       "      <td>23.073400</td>\n",
       "      <td>23.818182</td>\n",
       "      <td>19.329787</td>\n",
       "    </tr>\n",
       "    <tr>\n",
       "      <th rowspan=\"3\" valign=\"top\">1</th>\n",
       "      <th>1</th>\n",
       "      <td>40.520000</td>\n",
       "      <td>44.581967</td>\n",
       "      <td>36.248000</td>\n",
       "    </tr>\n",
       "    <tr>\n",
       "      <th>2</th>\n",
       "      <td>30.940678</td>\n",
       "      <td>33.369048</td>\n",
       "      <td>16.022000</td>\n",
       "    </tr>\n",
       "    <tr>\n",
       "      <th>3</th>\n",
       "      <td>24.525104</td>\n",
       "      <td>27.255814</td>\n",
       "      <td>22.274211</td>\n",
       "    </tr>\n",
       "  </tbody>\n",
       "</table>\n",
       "</div>"
      ],
      "text/plain": [
       "survived           -1          0          1\n",
       "sex pclass                                 \n",
       "0   1       41.333333  25.666667  34.939024\n",
       "    2       24.376552  36.000000  28.080882\n",
       "    3       23.073400  23.818182  19.329787\n",
       "1   1       40.520000  44.581967  36.248000\n",
       "    2       30.940678  33.369048  16.022000\n",
       "    3       24.525104  27.255814  22.274211"
      ]
     },
     "execution_count": 7,
     "metadata": {},
     "output_type": "execute_result"
    }
   ],
   "source": [
    "age_table=raw.pivot_table(index=['sex','pclass'],columns = ['survived'],values='age',aggfunc='mean')\n",
    "age_table # распределение возраста по классам отличается. Заполним потом пустые значения используя таблицу"
   ]
  },
  {
   "cell_type": "code",
   "execution_count": 8,
   "metadata": {
    "collapsed": false
   },
   "outputs": [
    {
     "data": {
      "text/html": [
       "<div>\n",
       "<style>\n",
       "    .dataframe thead tr:only-child th {\n",
       "        text-align: right;\n",
       "    }\n",
       "\n",
       "    .dataframe thead th {\n",
       "        text-align: left;\n",
       "    }\n",
       "\n",
       "    .dataframe tbody tr th {\n",
       "        vertical-align: top;\n",
       "    }\n",
       "</style>\n",
       "<table border=\"1\" class=\"dataframe\">\n",
       "  <thead>\n",
       "    <tr style=\"text-align: right;\">\n",
       "      <th></th>\n",
       "      <th>survived</th>\n",
       "      <th>-1</th>\n",
       "      <th>0</th>\n",
       "      <th>1</th>\n",
       "    </tr>\n",
       "    <tr>\n",
       "      <th>sex</th>\n",
       "      <th>pclass</th>\n",
       "      <th></th>\n",
       "      <th></th>\n",
       "      <th></th>\n",
       "    </tr>\n",
       "  </thead>\n",
       "  <tbody>\n",
       "    <tr>\n",
       "      <th rowspan=\"3\" valign=\"top\">0</th>\n",
       "      <th>1</th>\n",
       "      <td>48</td>\n",
       "      <td>3</td>\n",
       "      <td>82</td>\n",
       "    </tr>\n",
       "    <tr>\n",
       "      <th>2</th>\n",
       "      <td>29</td>\n",
       "      <td>6</td>\n",
       "      <td>68</td>\n",
       "    </tr>\n",
       "    <tr>\n",
       "      <th>3</th>\n",
       "      <td>50</td>\n",
       "      <td>55</td>\n",
       "      <td>47</td>\n",
       "    </tr>\n",
       "    <tr>\n",
       "      <th rowspan=\"3\" valign=\"top\">1</th>\n",
       "      <th>1</th>\n",
       "      <td>50</td>\n",
       "      <td>61</td>\n",
       "      <td>40</td>\n",
       "    </tr>\n",
       "    <tr>\n",
       "      <th>2</th>\n",
       "      <td>59</td>\n",
       "      <td>84</td>\n",
       "      <td>15</td>\n",
       "    </tr>\n",
       "    <tr>\n",
       "      <th>3</th>\n",
       "      <td>96</td>\n",
       "      <td>215</td>\n",
       "      <td>38</td>\n",
       "    </tr>\n",
       "  </tbody>\n",
       "</table>\n",
       "</div>"
      ],
      "text/plain": [
       "survived    -1    0   1\n",
       "sex pclass             \n",
       "0   1       48    3  82\n",
       "    2       29    6  68\n",
       "    3       50   55  47\n",
       "1   1       50   61  40\n",
       "    2       59   84  15\n",
       "    3       96  215  38"
      ]
     },
     "execution_count": 8,
     "metadata": {},
     "output_type": "execute_result"
    }
   ],
   "source": [
    "raw.pivot_table(index=['sex','pclass'],columns = ['survived'],values='age',aggfunc='count')\n",
    "# быть женщиной это плюс. класс имеет значение"
   ]
  },
  {
   "cell_type": "code",
   "execution_count": 9,
   "metadata": {
    "collapsed": false
   },
   "outputs": [
    {
     "data": {
      "text/plain": [
       "<Container object of 65 artists>"
      ]
     },
     "execution_count": 9,
     "metadata": {},
     "output_type": "execute_result"
    },
    {
     "data": {
      "image/png": "[encoded data removed]",
      "text/plain": [
       "<matplotlib.figure.Figure at 0xc98d5f8>"
      ]
     },
     "metadata": {},
     "output_type": "display_data"
    }
   ],
   "source": [
    "f1=raw[raw.survived==1].groupby(['age']).name.count()\n",
    "f2=raw[raw.survived==0].groupby(['age']).name.count()\n",
    "#pd.DataFrame(f1)\n",
    "\n",
    "plt.bar(f2.index,f2,color='red')\n",
    "plt.bar(f1.index,f1,color='green')\n"
   ]
  },
  {
   "cell_type": "code",
   "execution_count": 10,
   "metadata": {
    "collapsed": false
   },
   "outputs": [
    {
     "name": "stdout",
     "output_type": "stream",
     "text": [
      "Miss mean age: 21.7742380952\n",
      "Master mean age: 5.48264150943\n",
      "Mrs mean age: 36.8045977011\n",
      "Mr mean age: 33.3220899471\n"
     ]
    }
   ],
   "source": [
    "print \"Miss mean age: {}\".format(raw[raw.name.str.contains('Miss')].age.mean())\n",
    "print \"Master mean age: {}\".format(raw[raw.name.str.contains('Master')].age.mean())\n",
    "print \"Mrs mean age: {}\".format(raw[raw.name.str.contains('Mrs.')].age.mean())\n",
    "print \"Mr mean age: {}\".format(raw[raw.name.str.contains('Mr.')].age.mean())\n",
    "miss_age =raw[raw.name.str.contains('Miss')].age.mean()\n",
    "master_age = raw[raw.name.str.contains('Master')].age.mean()"
   ]
  },
  {
   "cell_type": "code",
   "execution_count": 11,
   "metadata": {
    "collapsed": false
   },
   "outputs": [],
   "source": [
    "#столбец с титулом. Он, конечно, коррелирует с возрастом, но тем не менее\n",
    "raw.loc[raw.name.str.contains('Miss.'),'title']='miss'\n",
    "raw.loc[raw.name.str.contains('Mr.'),'title']='mr'\n",
    "raw.loc[raw.name.str.contains('Mrs.'),'title']='mrs'\n",
    "raw.loc[raw.name.str.contains('Master'),'title']='master'\n",
    "raw.loc[raw.name.str.contains('Dr.'),'title']='dr'\n",
    "raw.loc[raw.name.str.contains('Don.'),'title']='don'\n",
    "raw.loc[raw.name.str.contains('Master'),'title']='master'\n",
    "raw.loc[raw.name.str.contains('Ms.'),'title']='ms'\n",
    "raw.loc[raw.name.str.contains('Rev.'),'title']='rev'\n",
    "raw.loc[raw.title.isnull(),'title']='other'"
   ]
  },
  {
   "cell_type": "code",
   "execution_count": 12,
   "metadata": {
    "collapsed": false
   },
   "outputs": [],
   "source": [
    "raw['deck']=raw.cabin.str[0]\n",
    "raw.loc[raw.deck.isnull(),'deck']='na'"
   ]
  },
  {
   "cell_type": "code",
   "execution_count": 13,
   "metadata": {
    "collapsed": false
   },
   "outputs": [],
   "source": [
    "raw.loc[raw.fare==0,'nofare']=1\n",
    "raw.nofare=raw.nofare.fillna(0)\n",
    "#отметим тех, кто ехал бесплатно"
   ]
  },
  {
   "cell_type": "code",
   "execution_count": 14,
   "metadata": {
    "collapsed": false
   },
   "outputs": [],
   "source": [
    "raw.age=raw.age.fillna(-1)\n",
    "raw.cabin = raw.cabin.fillna('na')\n",
    "raw.embarked= raw.embarked.fillna('S') # больше всего\n",
    "raw.fare = raw.fare.fillna(raw.fare.mean())"
   ]
  },
  {
   "cell_type": "code",
   "execution_count": 15,
   "metadata": {
    "collapsed": false
   },
   "outputs": [],
   "source": [
    "#заполним отсутствующи возраст для miss и master. для остальных используем данные из таблицы выше\n",
    "na_index =raw[raw.age==-1].index \n",
    "for ind in na_index:\n",
    "    if raw.loc[ind].title=='miss':\n",
    "        raw.loc[ind,'age']=miss_age\n",
    "    elif raw.loc[ind].title=='master':\n",
    "        raw.loc[ind,'age']=master_age\n",
    "    else:\n",
    "        raw.loc[ind,'age']=age_table[raw.loc[ind].survived][raw.loc[ind].sex][raw.loc[ind].pclass]"
   ]
  },
  {
   "cell_type": "code",
   "execution_count": 16,
   "metadata": {
    "collapsed": true
   },
   "outputs": [],
   "source": [
    "#добавим квадратичные признаки\n",
    "raw['agesqr']=raw.age**2\n",
    "raw['sibsqr']=raw.sibsp**2\n",
    "raw['parsqr']=raw.parch**2\n",
    "raw['pclasssqr']=raw.pclass**2"
   ]
  },
  {
   "cell_type": "code",
   "execution_count": 17,
   "metadata": {
    "collapsed": false
   },
   "outputs": [
    {
     "data": {
      "text/html": [
       "<div>\n",
       "<style>\n",
       "    .dataframe thead tr:only-child th {\n",
       "        text-align: right;\n",
       "    }\n",
       "\n",
       "    .dataframe thead th {\n",
       "        text-align: left;\n",
       "    }\n",
       "\n",
       "    .dataframe tbody tr th {\n",
       "        vertical-align: top;\n",
       "    }\n",
       "</style>\n",
       "<table border=\"1\" class=\"dataframe\">\n",
       "  <thead>\n",
       "    <tr style=\"text-align: right;\">\n",
       "      <th>survived</th>\n",
       "      <th>-1</th>\n",
       "      <th>0</th>\n",
       "      <th>1</th>\n",
       "    </tr>\n",
       "    <tr>\n",
       "      <th>cab</th>\n",
       "      <th></th>\n",
       "      <th></th>\n",
       "      <th></th>\n",
       "    </tr>\n",
       "  </thead>\n",
       "  <tbody>\n",
       "    <tr>\n",
       "      <th>A</th>\n",
       "      <td>7.0</td>\n",
       "      <td>8.0</td>\n",
       "      <td>7.0</td>\n",
       "    </tr>\n",
       "    <tr>\n",
       "      <th>B</th>\n",
       "      <td>18.0</td>\n",
       "      <td>12.0</td>\n",
       "      <td>35.0</td>\n",
       "    </tr>\n",
       "    <tr>\n",
       "      <th>C</th>\n",
       "      <td>35.0</td>\n",
       "      <td>24.0</td>\n",
       "      <td>35.0</td>\n",
       "    </tr>\n",
       "    <tr>\n",
       "      <th>D</th>\n",
       "      <td>13.0</td>\n",
       "      <td>8.0</td>\n",
       "      <td>25.0</td>\n",
       "    </tr>\n",
       "    <tr>\n",
       "      <th>E</th>\n",
       "      <td>9.0</td>\n",
       "      <td>8.0</td>\n",
       "      <td>24.0</td>\n",
       "    </tr>\n",
       "    <tr>\n",
       "      <th>F</th>\n",
       "      <td>8.0</td>\n",
       "      <td>5.0</td>\n",
       "      <td>8.0</td>\n",
       "    </tr>\n",
       "    <tr>\n",
       "      <th>G</th>\n",
       "      <td>1.0</td>\n",
       "      <td>2.0</td>\n",
       "      <td>2.0</td>\n",
       "    </tr>\n",
       "    <tr>\n",
       "      <th>T</th>\n",
       "      <td>NaN</td>\n",
       "      <td>1.0</td>\n",
       "      <td>NaN</td>\n",
       "    </tr>\n",
       "    <tr>\n",
       "      <th>n</th>\n",
       "      <td>327.0</td>\n",
       "      <td>481.0</td>\n",
       "      <td>206.0</td>\n",
       "    </tr>\n",
       "  </tbody>\n",
       "</table>\n",
       "</div>"
      ],
      "text/plain": [
       "survived     -1      0      1\n",
       "cab                          \n",
       "A           7.0    8.0    7.0\n",
       "B          18.0   12.0   35.0\n",
       "C          35.0   24.0   35.0\n",
       "D          13.0    8.0   25.0\n",
       "E           9.0    8.0   24.0\n",
       "F           8.0    5.0    8.0\n",
       "G           1.0    2.0    2.0\n",
       "T           NaN    1.0    NaN\n",
       "n         327.0  481.0  206.0"
      ]
     },
     "execution_count": 17,
     "metadata": {},
     "output_type": "execute_result"
    }
   ],
   "source": [
    "#первая буква в номере каты означает палубу. Это имеет значение\n",
    "tmp =raw.loc[:,['survived','cabin']]\n",
    "tmp['cab']=tmp.cabin.str[0]\n",
    "tmp.pivot_table(index=['cab'],columns='survived', values='cabin',aggfunc='count')"
   ]
  },
  {
   "cell_type": "code",
   "execution_count": 18,
   "metadata": {
    "collapsed": false
   },
   "outputs": [],
   "source": [
    "train_ind = list(raw[raw.survived!=-1].index)\n",
    "test_ind = list(raw[raw.survived==-1].index)"
   ]
  },
  {
   "cell_type": "code",
   "execution_count": 19,
   "metadata": {
    "collapsed": false
   },
   "outputs": [],
   "source": [
    "num_col = ['pclass','sex', 'age','sibsp', 'parch','fare','agesqr','sibsqr','parsqr','nofare','pclasssqr']\n",
    "cat_col = ['embarked','title','deck']\n",
    "y=raw[raw.survived!=-1]['survived']"
   ]
  },
  {
   "cell_type": "code",
   "execution_count": 20,
   "metadata": {
    "collapsed": false
   },
   "outputs": [
    {
     "data": {
      "text/html": [
       "<div>\n",
       "<style>\n",
       "    .dataframe thead tr:only-child th {\n",
       "        text-align: right;\n",
       "    }\n",
       "\n",
       "    .dataframe thead th {\n",
       "        text-align: left;\n",
       "    }\n",
       "\n",
       "    .dataframe tbody tr th {\n",
       "        vertical-align: top;\n",
       "    }\n",
       "</style>\n",
       "<table border=\"1\" class=\"dataframe\">\n",
       "  <thead>\n",
       "    <tr style=\"text-align: right;\">\n",
       "      <th></th>\n",
       "      <th>survived</th>\n",
       "      <th>pclass</th>\n",
       "      <th>name</th>\n",
       "      <th>sex</th>\n",
       "      <th>age</th>\n",
       "      <th>sibsp</th>\n",
       "      <th>parch</th>\n",
       "      <th>ticket</th>\n",
       "      <th>fare</th>\n",
       "      <th>cabin</th>\n",
       "      <th>embarked</th>\n",
       "      <th>title</th>\n",
       "      <th>deck</th>\n",
       "      <th>nofare</th>\n",
       "      <th>agesqr</th>\n",
       "      <th>sibsqr</th>\n",
       "      <th>parsqr</th>\n",
       "      <th>pclasssqr</th>\n",
       "    </tr>\n",
       "    <tr>\n",
       "      <th>PassengerId</th>\n",
       "      <th></th>\n",
       "      <th></th>\n",
       "      <th></th>\n",
       "      <th></th>\n",
       "      <th></th>\n",
       "      <th></th>\n",
       "      <th></th>\n",
       "      <th></th>\n",
       "      <th></th>\n",
       "      <th></th>\n",
       "      <th></th>\n",
       "      <th></th>\n",
       "      <th></th>\n",
       "      <th></th>\n",
       "      <th></th>\n",
       "      <th></th>\n",
       "      <th></th>\n",
       "      <th></th>\n",
       "    </tr>\n",
       "  </thead>\n",
       "  <tbody>\n",
       "    <tr>\n",
       "      <th>1</th>\n",
       "      <td>0</td>\n",
       "      <td>3</td>\n",
       "      <td>Braund, Mr. Owen Harris</td>\n",
       "      <td>1</td>\n",
       "      <td>22.0</td>\n",
       "      <td>1</td>\n",
       "      <td>0</td>\n",
       "      <td>A/5 21171</td>\n",
       "      <td>7.2500</td>\n",
       "      <td>na</td>\n",
       "      <td>S</td>\n",
       "      <td>mr</td>\n",
       "      <td>na</td>\n",
       "      <td>0.0</td>\n",
       "      <td>484.0</td>\n",
       "      <td>1</td>\n",
       "      <td>0</td>\n",
       "      <td>9</td>\n",
       "    </tr>\n",
       "    <tr>\n",
       "      <th>2</th>\n",
       "      <td>1</td>\n",
       "      <td>1</td>\n",
       "      <td>Cumings, Mrs. John Bradley (Florence Briggs Th...</td>\n",
       "      <td>0</td>\n",
       "      <td>38.0</td>\n",
       "      <td>1</td>\n",
       "      <td>0</td>\n",
       "      <td>PC 17599</td>\n",
       "      <td>71.2833</td>\n",
       "      <td>C85</td>\n",
       "      <td>C</td>\n",
       "      <td>mrs</td>\n",
       "      <td>C</td>\n",
       "      <td>0.0</td>\n",
       "      <td>1444.0</td>\n",
       "      <td>1</td>\n",
       "      <td>0</td>\n",
       "      <td>1</td>\n",
       "    </tr>\n",
       "    <tr>\n",
       "      <th>3</th>\n",
       "      <td>1</td>\n",
       "      <td>3</td>\n",
       "      <td>Heikkinen, Miss. Laina</td>\n",
       "      <td>0</td>\n",
       "      <td>26.0</td>\n",
       "      <td>0</td>\n",
       "      <td>0</td>\n",
       "      <td>STON/O2. 3101282</td>\n",
       "      <td>7.9250</td>\n",
       "      <td>na</td>\n",
       "      <td>S</td>\n",
       "      <td>miss</td>\n",
       "      <td>na</td>\n",
       "      <td>0.0</td>\n",
       "      <td>676.0</td>\n",
       "      <td>0</td>\n",
       "      <td>0</td>\n",
       "      <td>9</td>\n",
       "    </tr>\n",
       "  </tbody>\n",
       "</table>\n",
       "</div>"
      ],
      "text/plain": [
       "             survived  pclass  \\\n",
       "PassengerId                     \n",
       "1                   0       3   \n",
       "2                   1       1   \n",
       "3                   1       3   \n",
       "\n",
       "                                                          name  sex   age  \\\n",
       "PassengerId                                                                 \n",
       "1                                      Braund, Mr. Owen Harris    1  22.0   \n",
       "2            Cumings, Mrs. John Bradley (Florence Briggs Th...    0  38.0   \n",
       "3                                       Heikkinen, Miss. Laina    0  26.0   \n",
       "\n",
       "             sibsp  parch            ticket     fare cabin embarked title  \\\n",
       "PassengerId                                                                 \n",
       "1                1      0         A/5 21171   7.2500    na        S    mr   \n",
       "2                1      0          PC 17599  71.2833   C85        C   mrs   \n",
       "3                0      0  STON/O2. 3101282   7.9250    na        S  miss   \n",
       "\n",
       "            deck  nofare  agesqr  sibsqr  parsqr  pclasssqr  \n",
       "PassengerId                                                  \n",
       "1             na     0.0   484.0       1       0          9  \n",
       "2              C     0.0  1444.0       1       0          1  \n",
       "3             na     0.0   676.0       0       0          9  "
      ]
     },
     "execution_count": 20,
     "metadata": {},
     "output_type": "execute_result"
    }
   ],
   "source": [
    "raw.head(3)"
   ]
  },
  {
   "cell_type": "code",
   "execution_count": 21,
   "metadata": {
    "collapsed": false
   },
   "outputs": [],
   "source": [
    "#преобразуем категориальные признаки\n",
    "new_cat_cols=[]\n",
    "for c in cat_col:\n",
    "    for d in raw[c].unique():\n",
    "        raw.loc[raw[c]==d,c+'_'+d]=1\n",
    "        raw[c+'_'+d]=raw[c+'_'+d].fillna(0)\n",
    "        new_cat_cols.append(c+'_'+d)\n",
    "        \n",
    "all_cols = num_col+new_cat_cols"
   ]
  },
  {
   "cell_type": "code",
   "execution_count": 22,
   "metadata": {
    "collapsed": false
   },
   "outputs": [
    {
     "name": "stderr",
     "output_type": "stream",
     "text": [
      "C:\\Users\\Dima\\Anaconda2\\lib\\site-packages\\sklearn\\cross_validation.py:44: DeprecationWarning: This module was deprecated in version 0.18 in favor of the model_selection module into which all the refactored classes and functions are moved. Also note that the interface of the new CV iterators are different from that of this module. This module will be removed in 0.20.\n",
      "  \"This module will be removed in 0.20.\", DeprecationWarning)\n",
      "C:\\Users\\Dima\\Anaconda2\\lib\\site-packages\\sklearn\\grid_search.py:43: DeprecationWarning: This module was deprecated in version 0.18 in favor of the model_selection module into which all the refactored classes and functions are moved. This module will be removed in 0.20.\n",
      "  DeprecationWarning)\n"
     ]
    }
   ],
   "source": [
    "from sklearn.preprocessing import StandardScaler\n",
    "from sklearn.preprocessing import PolynomialFeatures\n",
    "from sklearn.feature_extraction import DictVectorizer as DV\n",
    "from sklearn.cross_validation import train_test_split\n",
    "from sklearn.cross_validation import StratifiedKFold\n",
    "from sklearn.cross_validation import cross_val_score\n",
    "from sklearn.grid_search import GridSearchCV\n",
    "from sklearn.linear_model import LogisticRegression\n",
    "from sklearn.ensemble import RandomForestClassifier\n",
    "from xgboost import XGBClassifier\n",
    "from sklearn.metrics import roc_auc_score\n",
    "from sklearn.metrics import accuracy_score"
   ]
  },
  {
   "cell_type": "code",
   "execution_count": 23,
   "metadata": {
    "collapsed": false
   },
   "outputs": [
    {
     "data": {
      "text/html": [
       "<div>\n",
       "<style>\n",
       "    .dataframe thead tr:only-child th {\n",
       "        text-align: right;\n",
       "    }\n",
       "\n",
       "    .dataframe thead th {\n",
       "        text-align: left;\n",
       "    }\n",
       "\n",
       "    .dataframe tbody tr th {\n",
       "        vertical-align: top;\n",
       "    }\n",
       "</style>\n",
       "<table border=\"1\" class=\"dataframe\">\n",
       "  <thead>\n",
       "    <tr style=\"text-align: right;\">\n",
       "      <th></th>\n",
       "      <th>0</th>\n",
       "    </tr>\n",
       "  </thead>\n",
       "  <tbody>\n",
       "    <tr>\n",
       "      <th>sex</th>\n",
       "      <td>-1.437340</td>\n",
       "    </tr>\n",
       "    <tr>\n",
       "      <th>pclasssqr</th>\n",
       "      <td>-0.400448</td>\n",
       "    </tr>\n",
       "    <tr>\n",
       "      <th>deck_na</th>\n",
       "      <td>-0.346435</td>\n",
       "    </tr>\n",
       "    <tr>\n",
       "      <th>nofare</th>\n",
       "      <td>-0.344860</td>\n",
       "    </tr>\n",
       "    <tr>\n",
       "      <th>sibsqr</th>\n",
       "      <td>-0.169439</td>\n",
       "    </tr>\n",
       "    <tr>\n",
       "      <th>parsqr</th>\n",
       "      <td>-0.073442</td>\n",
       "    </tr>\n",
       "    <tr>\n",
       "      <th>parch</th>\n",
       "      <td>-0.063513</td>\n",
       "    </tr>\n",
       "    <tr>\n",
       "      <th>title_rev</th>\n",
       "      <td>-0.062907</td>\n",
       "    </tr>\n",
       "    <tr>\n",
       "      <th>age</th>\n",
       "      <td>-0.012425</td>\n",
       "    </tr>\n",
       "    <tr>\n",
       "      <th>agesqr</th>\n",
       "      <td>-0.000195</td>\n",
       "    </tr>\n",
       "    <tr>\n",
       "      <th>deck_T</th>\n",
       "      <td>0.000000</td>\n",
       "    </tr>\n",
       "    <tr>\n",
       "      <th>title_ms</th>\n",
       "      <td>0.000000</td>\n",
       "    </tr>\n",
       "    <tr>\n",
       "      <th>title_don</th>\n",
       "      <td>0.000000</td>\n",
       "    </tr>\n",
       "    <tr>\n",
       "      <th>deck_F</th>\n",
       "      <td>0.000000</td>\n",
       "    </tr>\n",
       "    <tr>\n",
       "      <th>deck_G</th>\n",
       "      <td>0.000000</td>\n",
       "    </tr>\n",
       "    <tr>\n",
       "      <th>deck_C</th>\n",
       "      <td>0.000000</td>\n",
       "    </tr>\n",
       "    <tr>\n",
       "      <th>sibsp</th>\n",
       "      <td>0.000000</td>\n",
       "    </tr>\n",
       "    <tr>\n",
       "      <th>title_mr</th>\n",
       "      <td>0.000000</td>\n",
       "    </tr>\n",
       "    <tr>\n",
       "      <th>fare</th>\n",
       "      <td>0.005656</td>\n",
       "    </tr>\n",
       "    <tr>\n",
       "      <th>deck_B</th>\n",
       "      <td>0.282503</td>\n",
       "    </tr>\n",
       "    <tr>\n",
       "      <th>title_other</th>\n",
       "      <td>0.296604</td>\n",
       "    </tr>\n",
       "    <tr>\n",
       "      <th>deck_A</th>\n",
       "      <td>0.399135</td>\n",
       "    </tr>\n",
       "    <tr>\n",
       "      <th>title_dr</th>\n",
       "      <td>0.531375</td>\n",
       "    </tr>\n",
       "    <tr>\n",
       "      <th>embarked_S</th>\n",
       "      <td>0.776814</td>\n",
       "    </tr>\n",
       "    <tr>\n",
       "      <th>deck_D</th>\n",
       "      <td>0.818263</td>\n",
       "    </tr>\n",
       "    <tr>\n",
       "      <th>embarked_Q</th>\n",
       "      <td>0.980805</td>\n",
       "    </tr>\n",
       "    <tr>\n",
       "      <th>pclass</th>\n",
       "      <td>1.064332</td>\n",
       "    </tr>\n",
       "    <tr>\n",
       "      <th>embarked_C</th>\n",
       "      <td>1.158957</td>\n",
       "    </tr>\n",
       "    <tr>\n",
       "      <th>deck_E</th>\n",
       "      <td>1.205924</td>\n",
       "    </tr>\n",
       "    <tr>\n",
       "      <th>title_miss</th>\n",
       "      <td>1.243187</td>\n",
       "    </tr>\n",
       "    <tr>\n",
       "      <th>title_mrs</th>\n",
       "      <td>1.755957</td>\n",
       "    </tr>\n",
       "    <tr>\n",
       "      <th>title_master</th>\n",
       "      <td>3.011136</td>\n",
       "    </tr>\n",
       "  </tbody>\n",
       "</table>\n",
       "</div>"
      ],
      "text/plain": [
       "                     0\n",
       "sex          -1.437340\n",
       "pclasssqr    -0.400448\n",
       "deck_na      -0.346435\n",
       "nofare       -0.344860\n",
       "sibsqr       -0.169439\n",
       "parsqr       -0.073442\n",
       "parch        -0.063513\n",
       "title_rev    -0.062907\n",
       "age          -0.012425\n",
       "agesqr       -0.000195\n",
       "deck_T        0.000000\n",
       "title_ms      0.000000\n",
       "title_don     0.000000\n",
       "deck_F        0.000000\n",
       "deck_G        0.000000\n",
       "deck_C        0.000000\n",
       "sibsp         0.000000\n",
       "title_mr      0.000000\n",
       "fare          0.005656\n",
       "deck_B        0.282503\n",
       "title_other   0.296604\n",
       "deck_A        0.399135\n",
       "title_dr      0.531375\n",
       "embarked_S    0.776814\n",
       "deck_D        0.818263\n",
       "embarked_Q    0.980805\n",
       "pclass        1.064332\n",
       "embarked_C    1.158957\n",
       "deck_E        1.205924\n",
       "title_miss    1.243187\n",
       "title_mrs     1.755957\n",
       "title_master  3.011136"
      ]
     },
     "execution_count": 23,
     "metadata": {},
     "output_type": "execute_result"
    }
   ],
   "source": [
    "#посмотрим, какие элемены будут весить в линейной модели. Откинем шумовые признаки\n",
    "LR=LogisticRegression(class_weight='balanced',fit_intercept=False, penalty='l1')\n",
    "LR.fit(raw.loc[train_ind,all_cols],y)\n",
    "\n",
    "co=pd.DataFrame(LR.coef_)\n",
    "co.columns=all_cols\n",
    "co=co.T\n",
    "all_cols=co[abs(co[0])>0.015].index\n",
    "co.sort_values(0)#"
   ]
  },
  {
   "cell_type": "code",
   "execution_count": 24,
   "metadata": {
    "collapsed": false
   },
   "outputs": [
    {
     "name": "stdout",
     "output_type": "stream",
     "text": [
      "Index([u'pclass', u'sex', u'parch', u'sibsqr', u'parsqr', u'nofare',\n",
      "       u'pclasssqr', u'embarked_S', u'embarked_C', u'embarked_Q', u'title_mrs',\n",
      "       u'title_miss', u'title_master', u'title_dr', u'title_rev',\n",
      "       u'title_other', u'deck_na', u'deck_E', u'deck_D', u'deck_A', u'deck_B'],\n",
      "      dtype='object')\n"
     ]
    }
   ],
   "source": [
    "print all_cols "
   ]
  },
  {
   "cell_type": "code",
   "execution_count": 25,
   "metadata": {
    "collapsed": false,
    "scrolled": true
   },
   "outputs": [
    {
     "name": "stdout",
     "output_type": "stream",
     "text": [
      "LR: 0.79797979798 / 0.00549829347426\n",
      "simple RF: 0.809203142536 / 0.00793610304362\n",
      "Fitting 3 folds for each of 108 candidates, totalling 324 fits\n"
     ]
    },
    {
     "name": "stderr",
     "output_type": "stream",
     "text": [
      "[Parallel(n_jobs=-1)]: Done  34 tasks      | elapsed:   27.5s\n",
      "[Parallel(n_jobs=-1)]: Done 184 tasks      | elapsed:   41.5s\n",
      "[Parallel(n_jobs=-1)]: Done 324 out of 324 | elapsed:   55.0s finished\n"
     ]
    },
    {
     "name": "stdout",
     "output_type": "stream",
     "text": [
      "RF: 0.819304152637, params:{'min_samples_split': 8, 'n_estimators': 50, 'max_depth': 15, 'min_samples_leaf': 2} \n",
      "Simple XGB: 0.818181818182 / 0.0145471171681\n",
      "Fitting 3 folds for each of 36 candidates, totalling 108 fits\n"
     ]
    },
    {
     "name": "stderr",
     "output_type": "stream",
     "text": [
      "[Parallel(n_jobs=1)]: Done 108 out of 108 | elapsed:   43.2s finished\n"
     ]
    },
    {
     "name": "stdout",
     "output_type": "stream",
     "text": [
      "XGB: 0.829405162738, params:{'n_estimators': 200, 'learning_rate': 0.01, 'max_depth': 3} \n",
      "---------------done-----------------\n"
     ]
    }
   ],
   "source": [
    "#запустим классификаторы. Используем кросс-валидацию и подбор параметров по сетке. Ну и выполним масштабирование признаков\n",
    "\n",
    "cv=StratifiedKFold(y,n_folds=3,shuffle=True,random_state=1)\n",
    "LR = LogisticRegression(class_weight='balanced',fit_intercept=False, penalty='l2')\n",
    "RF = RandomForestClassifier(n_estimators=70,max_depth=15)\n",
    "XGB = XGBClassifier()\n",
    "\n",
    "train_data = raw.loc[train_ind,all_cols]\n",
    "test_data = raw.loc[test_ind,all_cols]\n",
    "\n",
    "scaler = StandardScaler()\n",
    "train_data_scaled = scaler.fit_transform(train_data,y)\n",
    "test_data_scaled = scaler.transform(test_data)\n",
    "\n",
    "train_data = train_data_scaled\n",
    "test_data=test_data_scaled\n",
    "\n",
    "estimator=LR\n",
    "scores = cross_val_score(estimator,train_data,y,cv=cv,n_jobs=-1)\n",
    "LR_best =LR\n",
    "LR.fit(train_data,y)\n",
    "print 'LR: {} / {}'.format(scores.mean(),scores.std())\n",
    "\n",
    "estimator=RF\n",
    "\n",
    "scores = cross_val_score(estimator,train_data,y,cv=cv,n_jobs=-1)\n",
    "print 'simple RF: {} / {}'.format(scores.mean(),scores.std())\n",
    "RF=RandomForestClassifier()\n",
    "RF_params=[{\n",
    "    \"n_estimators\":[20,30,50,70],\n",
    "    \"min_samples_split\":[4,8,10],\n",
    "    \"max_depth\":[10,15,20],\n",
    "    \"min_samples_leaf\":[2,3,4]\n",
    "}]\n",
    "RF_grid=GridSearchCV(RF,RF_params,cv=3,refit=True,verbose=1,n_jobs=-1)\n",
    "RF_grid.fit(train_data,y)\n",
    "RF_best = RF_grid.best_estimator_\n",
    "print 'RF: {}, params:{} '.format(RF_grid.best_score_,RF_grid.best_params_)\n",
    "\n",
    "\n",
    "estimator=XGB\n",
    "scores = cross_val_score(estimator,train_data,y,cv=cv,n_jobs=-1)\n",
    "print 'Simple XGB: {} / {}'.format(scores.mean(),scores.std())\n",
    "\n",
    "XGB_params = [{\n",
    "    \"n_estimators\":[150,200,250],\n",
    "    \"max_depth\":[2,3,4,5],\n",
    "    \"learning_rate\":[0.01,0.02,0.05]\n",
    "}]\n",
    "XGB_grid = GridSearchCV(XGB,XGB_params,cv=3,refit=True, verbose=1,n_jobs=1)\n",
    "XGB_grid.fit(train_data,y)\n",
    "XGB_best = XGB_grid.best_estimator_\n",
    "print 'XGB: {}, params:{} '.format(XGB_grid.best_score_,XGB_grid.best_params_)\n",
    "\n",
    "print '---------------done-----------------'"
   ]
  },
  {
   "cell_type": "code",
   "execution_count": null,
   "metadata": {
    "collapsed": false
   },
   "outputs": [],
   "source": [
    "test_data=test_data_scaled\n",
    "\n",
    "answers = pd.DataFrame(LR_best.predict(test_data))\n",
    "answers.columns=['survived']\n",
    "answers.index = test.index\n",
    "#answers.head(4)\n",
    "answers.to_csv('answer_LR.csv')\n",
    "\n",
    "answers = pd.DataFrame(RF_best.predict(test_data))\n",
    "answers.columns=['survived']\n",
    "answers.index = test.index\n",
    "answers.to_csv('answer_rf.csv')\n",
    "\n",
    "answers = pd.DataFrame(XGB_best.predict(test_data))\n",
    "answers.columns=['survived']\n",
    "answers.index = test.index\n",
    "answers.to_csv('answer_XGB.csv')"
   ]
  }
 ],
 "metadata": {
  "kernelspec": {
   "display_name": "Python 2",
   "language": "python",
   "name": "python2"
  },
  "language_info": {
   "codemirror_mode": {
    "name": "ipython",
    "version": 2
   },
   "file_extension": ".py",
   "mimetype": "text/x-python",
   "name": "python",
   "nbconvert_exporter": "python",
   "pygments_lexer": "ipython2",
   "version": "2.7.13"
  }
 },
 "nbformat": 4,
 "nbformat_minor": 2
}
